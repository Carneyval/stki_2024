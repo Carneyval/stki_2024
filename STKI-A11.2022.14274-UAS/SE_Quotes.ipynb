{
 "cells": [
  {
   "cell_type": "markdown",
   "id": "1976cfac-bcd5-4233-be6b-d73aeccf3a1f",
   "metadata": {},
   "source": [
    "# PENERAPAN TF-IDF DAN COSINE SIMILARITY PADA MESIN PENCARI QUOTES BAHASA INGGRIS BERDASARKAN KATEGORI ATAU AUTHOR"
   ]
  },
  {
   "cell_type": "markdown",
   "id": "3fcb1691-7613-46a6-8e23-d478394c92cf",
   "metadata": {},
   "source": [
    "**MASALAH**  \n",
    "Dalam era digital, terdapat banyak kutipan inspiratif yang tersebar di internet. \n",
    "Namun, pengguna sering kesulitan menemukan kutipan tertentu berdasarkan kategori atau penulis yang mereka inginkan. \n",
    "Mesin pencari umum biasanya tidak dirancang khusus untuk memberikan hasil pencarian yang relevan terhadap kutipan berdasarkan kategori atau penulis tertentu. \n",
    "Hal ini menyebabkan:\n",
    "\n",
    "* Waktu pencarian yang lama karena hasil yang tidak spesifik.\n",
    "* Kurangnya kemudahan untuk menemukan kutipan sesuai kebutuhan, seperti motivasi, cinta, atau pendidikan.\n",
    "* Tidak adanya sistem pencarian yang fokus pada keakuratan dan relevansi kutipan berdasarkan konteks pengguna.\n"
   ]
  },
  {
   "cell_type": "markdown",
   "id": "8e383a98-d406-4feb-a518-4e3b1cdb7ff1",
   "metadata": {},
   "source": [
    "**TUJUAN**  \n",
    "Tujuan dari project ini adalah:  \n",
    "\n",
    "* Membuat mesin pencari khusus untuk kutipan (quotes) yang mampu memberikan hasil pencarian yang relevan dan akurat.\n",
    "* Mengimplementasikan metode TF-IDF dan Cosine Similarity untuk mengukur relevansi antara query pengguna dengan kutipan yang tersedia.\n",
    "* Memberikan pengalaman pencarian yang efisien bagi pengguna dengan hasil yang lebih terfokus dibandingkan pencarian umum.\n",
    "* Meningkatkan aksesibilitas kutipan inspirasional yang sesuai dengan kebutuhan atau preferensi pengguna."
   ]
  },
  {
   "cell_type": "markdown",
   "id": "27c1a02c-ca89-43a9-b60a-63d89d0ea172",
   "metadata": {},
   "source": [
    "**ALUR PENYELESAIAN**"
   ]
  },
  {
   "cell_type": "markdown",
   "id": "0960a538-d515-4996-af07-e98cfc9bf952",
   "metadata": {},
   "source": [
    "![ALUR PENYELESAIAN](alur-penyelesaian/bagan-alurPenyelesaian.png)\n"
   ]
  },
  {
   "cell_type": "markdown",
   "id": "67122d9f-269d-4ee5-b444-54fc79999b1e",
   "metadata": {},
   "source": [
    "**ANALISIS DATASET DAN FITUR**"
   ]
  },
  {
   "cell_type": "code",
   "execution_count": 5,
   "id": "406bad08-3d6d-47a8-8fb2-0e5469169980",
   "metadata": {},
   "outputs": [],
   "source": [
    "# Import library yang diperlukan\n",
    "import pandas as pd\n",
    "import numpy as np\n",
    "from sklearn.feature_extraction.text import TfidfVectorizer\n",
    "from sklearn.metrics.pairwise import cosine_similarity\n",
    "import re\n",
    "import nltk\n",
    "from nltk.tokenize import word_tokenize\n",
    "from nltk.corpus import stopwords\n",
    "from nltk.stem import WordNetLemmatizer"
   ]
  },
  {
   "cell_type": "code",
   "execution_count": 6,
   "id": "3239b71e-7428-48b3-b997-3e3b3e714e30",
   "metadata": {},
   "outputs": [
    {
     "name": "stderr",
     "output_type": "stream",
     "text": [
      "[nltk_data] Downloading package punkt to\n",
      "[nltk_data]     C:\\Users\\pramu\\AppData\\Roaming\\nltk_data...\n",
      "[nltk_data]   Package punkt is already up-to-date!\n",
      "[nltk_data] Downloading package stopwords to\n",
      "[nltk_data]     C:\\Users\\pramu\\AppData\\Roaming\\nltk_data...\n",
      "[nltk_data]   Package stopwords is already up-to-date!\n",
      "[nltk_data] Downloading package wordnet to\n",
      "[nltk_data]     C:\\Users\\pramu\\AppData\\Roaming\\nltk_data...\n",
      "[nltk_data]   Package wordnet is already up-to-date!\n"
     ]
    },
    {
     "data": {
      "text/plain": [
       "True"
      ]
     },
     "execution_count": 6,
     "metadata": {},
     "output_type": "execute_result"
    }
   ],
   "source": [
    "# Download data NLTK yang diperlukan\n",
    "nltk.download('punkt')\n",
    "nltk.download('stopwords')\n",
    "nltk.download('wordnet')"
   ]
  },
  {
   "cell_type": "code",
   "execution_count": 7,
   "id": "f10ee7ef-6238-4645-9523-09a9b38f79eb",
   "metadata": {},
   "outputs": [],
   "source": [
    "# Memuat dataset\n",
    "df = pd.read_csv('quotes.csv')"
   ]
  },
  {
   "cell_type": "code",
   "execution_count": 8,
   "id": "79a3fd50-99bf-41dc-8b53-e905805b0d9c",
   "metadata": {},
   "outputs": [
    {
     "name": "stdout",
     "output_type": "stream",
     "text": [
      "Informasi Dataset:\n",
      "<class 'pandas.core.frame.DataFrame'>\n",
      "RangeIndex: 499709 entries, 0 to 499708\n",
      "Data columns (total 3 columns):\n",
      " #   Column    Non-Null Count   Dtype \n",
      "---  ------    --------------   ----- \n",
      " 0   quote     499708 non-null  object\n",
      " 1   author    497956 non-null  object\n",
      " 2   category  499646 non-null  object\n",
      "dtypes: object(3)\n",
      "memory usage: 11.4+ MB\n",
      "None\n",
      "\n",
      "Contoh Data:\n",
      "                                               quote  \\\n",
      "0  I'm selfish, impatient and a little insecure. ...   \n",
      "1  You've gotta dance like there's nobody watchin...   \n",
      "2  You know you're in love when you can't fall as...   \n",
      "3  A friend is someone who knows all about you an...   \n",
      "4  Darkness cannot drive out darkness: only light...   \n",
      "\n",
      "                                              author  \\\n",
      "0                                     Marilyn Monroe   \n",
      "1                                  William W. Purkey   \n",
      "2                                          Dr. Seuss   \n",
      "3                                     Elbert Hubbard   \n",
      "4  Martin Luther King Jr., A Testament of Hope: T...   \n",
      "\n",
      "                                            category  \n",
      "0  attributed-no-source, best, life, love, mistak...  \n",
      "1  dance, heaven, hurt, inspirational, life, love...  \n",
      "2  attributed-no-source, dreams, love, reality, s...  \n",
      "3                friend, friendship, knowledge, love  \n",
      "4  darkness, drive-out, hate, inspirational, ligh...  \n"
     ]
    }
   ],
   "source": [
    "# Menampilkan informasi dasar tentang dataset\n",
    "print(\"Informasi Dataset:\")\n",
    "print(df.info())\n",
    "print(\"\\nContoh Data:\")\n",
    "print(df.head())"
   ]
  },
  {
   "cell_type": "code",
   "execution_count": 9,
   "id": "9f51cbc7-66da-46e4-9539-593892c4e728",
   "metadata": {},
   "outputs": [
    {
     "name": "stdout",
     "output_type": "stream",
     "text": [
      "\n",
      "Jumlah penulis unik: 117238\n",
      "Jumlah kategori unik: 367915\n",
      "\n",
      "Distribusi kategori:\n",
      "category\n",
      "education, happiness, hope, inspirational, intelligence, knowledge, life, love, philosophy, quotes, truth, wisdom    1648\n",
      "humorous                                                                                                             1063\n",
      "happiness                                                                                                            1013\n",
      "friendship                                                                                                            901\n",
      "prayer                                                                                                                873\n",
      "                                                                                                                     ... \n",
      "amsterdam, words                                                                                                        1\n",
      "kvothe, love, mother-love, vashet, words                                                                                1\n",
      "actions, cause-and-effect, letters, vibrations, words                                                                   1\n",
      "community, language, words                                                                                              1\n",
      "God, Promises, Bright                                                                                                   1\n",
      "Name: count, Length: 367915, dtype: int64\n"
     ]
    }
   ],
   "source": [
    "# EDA Dasar\n",
    "print(\"\\nJumlah penulis unik:\", df['author'].nunique())\n",
    "print(\"Jumlah kategori unik:\", df['category'].nunique())\n",
    "print(\"\\nDistribusi kategori:\")\n",
    "print(df['category'].value_counts())"
   ]
  },
  {
   "cell_type": "markdown",
   "id": "6ccc15fa-23e8-42ec-9221-4cafac426363",
   "metadata": {},
   "source": [
    "**PEMROSESAN TEKS DAN IMPLEMENTASI MODEL**"
   ]
  },
  {
   "cell_type": "code",
   "execution_count": 11,
   "id": "b9262b1b-3a38-4c21-8f18-9b924821db09",
   "metadata": {},
   "outputs": [],
   "source": [
    "# Fungsi preprocessing teks\n",
    "def preprocess_text(text):\n",
    "    \"\"\"\n",
    "    Melakukan preprocessing pada teks input dengan tahapan:\n",
    "    1. Melakukan preprocessing pada teks input dengan penanganan nilai NaN\n",
    "    2. Konversi ke huruf kecil\n",
    "    3. Menghapus karakter khusus dan angka\n",
    "    3. Tokenisasi\n",
    "    5. Menghapus stopwords\n",
    "    6. Lemmatisasi\n",
    "    \"\"\"\n",
    "    # Penanganan nilai NaN atau non-string\n",
    "    if pd.isna(text) or not isinstance(text, str):\n",
    "        return \"\"\n",
    "    \n",
    "    # Konversi ke huruf kecil\n",
    "    text = text.lower()\n",
    "    \n",
    "    # Menghapus karakter khusus dan angka\n",
    "    text = re.sub(r'[^a-zA-Z\\s]', '', text)\n",
    "    \n",
    "    # Tokenisasi\n",
    "    tokens = word_tokenize(text)\n",
    "    \n",
    "    # Menghapus stopwords\n",
    "    stop_words = set(stopwords.words('english'))\n",
    "    tokens = [token for token in tokens if token not in stop_words]\n",
    "    \n",
    "    # Lemmatisasi\n",
    "    lemmatizer = WordNetLemmatizer()\n",
    "    tokens = [lemmatizer.lemmatize(token) for token in tokens]\n",
    "    \n",
    "    return ' '.join(tokens)"
   ]
  },
  {
   "cell_type": "code",
   "execution_count": 12,
   "id": "5ebfe685-a1a8-404f-8373-81bf5ecc9f6e",
   "metadata": {},
   "outputs": [
    {
     "name": "stdout",
     "output_type": "stream",
     "text": [
      "Jumlah nilai NaN dalam kolom 'quote': 1\n",
      "Jumlah total data sebelum pembersihan: 499709\n"
     ]
    }
   ],
   "source": [
    "# Membersihkan dataset dari nilai NaN\n",
    "print(\"Jumlah nilai NaN dalam kolom 'quote':\", df['quote'].isna().sum())\n",
    "print(\"Jumlah total data sebelum pembersihan:\", len(df))"
   ]
  },
  {
   "cell_type": "code",
   "execution_count": 13,
   "id": "1deb5376-b36b-4008-b3e4-fa9d508302d2",
   "metadata": {},
   "outputs": [
    {
     "name": "stdout",
     "output_type": "stream",
     "text": [
      "Jumlah total data setelah pembersihan: 499708\n"
     ]
    }
   ],
   "source": [
    "# Menghapus baris dengan nilai NaN\n",
    "df = df.dropna(subset=['quote'])\n",
    "print(\"Jumlah total data setelah pembersihan:\", len(df))"
   ]
  },
  {
   "cell_type": "code",
   "execution_count": 14,
   "id": "3de0c800-ac35-4870-b5bf-2703b6411e11",
   "metadata": {},
   "outputs": [],
   "source": [
    "# Menerapkan preprocessing pada quotes\n",
    "df['processed_quote'] = df['quote'].apply(preprocess_text)"
   ]
  },
  {
   "cell_type": "code",
   "execution_count": 15,
   "id": "7209e01b-4c13-44bb-9117-b922873870b6",
   "metadata": {},
   "outputs": [],
   "source": [
    "# Membuat vektor TF-IDF untuk quotes\n",
    "tfidf = TfidfVectorizer()\n",
    "quote_vectors = tfidf.fit_transform(df['processed_quote'])"
   ]
  },
  {
   "cell_type": "code",
   "execution_count": 16,
   "id": "f7a0ff41-ab06-4300-aa6e-f3e313bb584b",
   "metadata": {},
   "outputs": [],
   "source": [
    "authors = df['author'].str.lower().unique()\n",
    "categories = df['category'].str.lower().unique()"
   ]
  },
  {
   "cell_type": "code",
   "execution_count": 24,
   "id": "3f9160ba-cedc-4720-a025-0d52510583a0",
   "metadata": {},
   "outputs": [],
   "source": [
    "def search_quotes(query, search_type='content', top_n=5):\n",
    "    \"\"\"\n",
    "    Mencari quotes berdasarkan konten, penulis, atau kategori\n",
    "\n",
    "    Parameter:\n",
    "    query (str): Kata kunci pencarian\n",
    "    search_type (str): Tipe pencarian ('quote', 'author', 'category')\n",
    "    top_n (int): Jumlah hasil yang akan dikembalikan\n",
    "\n",
    "    Returns:\n",
    "    list: Quotes yang paling cocok beserta detailnya\n",
    "    \"\"\"\n",
    "    if search_type == 'content':\n",
    "        # Preprocessing query\n",
    "        processed_query = preprocess_text(query)\n",
    "\n",
    "        # Transformasi query ke vektor TF-IDF\n",
    "        query_vector = tfidf.transform([processed_query])\n",
    "\n",
    "        # Menghitung cosine similarity\n",
    "        similarities = cosine_similarity(query_vector, quote_vectors).flatten()\n",
    "\n",
    "        # Mendapatkan N hasil teratas\n",
    "        top_indices = similarities.argsort()[-top_n:][::-1]\n",
    "\n",
    "        results = []\n",
    "        for idx in top_indices:\n",
    "            results.append({\n",
    "                'quote': df.iloc[idx]['quote'],\n",
    "                'author': df.iloc[idx]['author'],\n",
    "                'category': df.iloc[idx]['category'],\n",
    "                'similarity': similarities[idx]\n",
    "            })\n",
    "\n",
    "        return results\n",
    "    elif search_type in ['author', 'category']:\n",
    "        # Filter berdasarkan penulis atau kategori\n",
    "        matches = df[df[search_type].fillna('').str.lower().str.contains(query.lower())]\n",
    "        return matches.head(top_n)[['quote', 'author', 'category']].to_dict('records')\n",
    "    else:\n",
    "        # Pencarian berdasarkan konten dengan kecocokan parsial\n",
    "        matches = df[df['processed_quote'].str.contains(query.lower(), na=False)]\n",
    "        return matches.head(top_n)[['quote', 'author', 'category']].to_dict('records')"
   ]
  },
  {
   "cell_type": "markdown",
   "id": "2852a5fb-57ce-4c84-9e8e-584050524fac",
   "metadata": {},
   "source": [
    "**PERFORMA MODEL**"
   ]
  },
  {
   "cell_type": "code",
   "execution_count": 50,
   "id": "8d9a3594-07b1-4d7a-98fe-5bed60273591",
   "metadata": {},
   "outputs": [],
   "source": [
    "# Fungsi untuk mengukur performa pencarian dengan penanganan NA/NaN\n",
    "def test_search_performance():\n",
    "    \"\"\"\n",
    "    Menguji performa pencarian dengan berbagai tipe query\n",
    "    dan menangani kemungkinan nilai NA/NaN\n",
    "    \"\"\"\n",
    "    test_queries = [\n",
    "        ('love', 'quote'),\n",
    "        ('Max Lucado', 'author'),\n",
    "        ('motivation', 'category')\n",
    "    ]\n",
    "    \n",
    "    print(\"=== Pengujian Performa Pencarian ===\")\n",
    "    \n",
    "    for query, search_type in test_queries:\n",
    "        try:\n",
    "            print(f\"\\nMengetes pencarian untuk:\")\n",
    "            print(f\"Query: '{query}'\")\n",
    "            print(f\"Tipe pencarian: {search_type}\")\n",
    "            \n",
    "            # Mengukur waktu eksekusi\n",
    "            start_time = time.time()\n",
    "            \n",
    "            if search_type == 'content':\n",
    "                # Pencarian berdasarkan konten quote\n",
    "                processed_query = preprocess_text(query)\n",
    "                query_vector = tfidf.transform([processed_query])\n",
    "                similarities = cosine_similarity(query_vector, quote_vectors).flatten()\n",
    "                top_indices = similarities.argsort()[-5:][::-1]\n",
    "                results = []\n",
    "                for idx in top_indices:\n",
    "                    results.append({\n",
    "                        'quote': df.iloc[idx]['quote'],\n",
    "                        'author': df.iloc[idx]['author'],\n",
    "                        'category': df.iloc[idx]['category'],\n",
    "                        'similarity': similarities[idx]\n",
    "                    })\n",
    "            else:\n",
    "                # Pencarian berdasarkan author atau category\n",
    "                # Menggunakan metode yang aman untuk handling NA/NaN\n",
    "                mask = df[search_type].fillna('').str.lower().str.contains(query.lower())\n",
    "                matches = df[mask].head(5)\n",
    "                results = matches[['quote', 'author', 'category']].to_dict('records')\n",
    "            \n",
    "            execution_time = time.time() - start_time\n",
    "            \n",
    "            print(f\"Waktu eksekusi: {execution_time:.4f} detik\")\n",
    "            print(f\"Jumlah hasil: {len(results)}\")\n",
    "            \n",
    "            # Menampilkan contoh hasil pertama\n",
    "            if results:\n",
    "                print(\"\\nContoh hasil pertama:\")\n",
    "                print(f\"Quote: {results[0]['quote']}\")\n",
    "                print(f\"Author: {results[0]['author']}\")\n",
    "                print(f\"Category: {results[0]['category']}\")\n",
    "            else:\n",
    "                print(\"Tidak ditemukan hasil\")\n",
    "                \n",
    "        except Exception as e:\n",
    "            print(f\"Error saat menguji query '{query}' ({search_type}): {str(e)}\")\n",
    "            continue"
   ]
  },
  {
   "cell_type": "code",
   "execution_count": 52,
   "id": "95648d5a-c46d-4dcf-9505-38805e6811f2",
   "metadata": {},
   "outputs": [
    {
     "name": "stdout",
     "output_type": "stream",
     "text": [
      "Informasi Dataset:\n",
      "Total quotes: 499708\n",
      "Jumlah quotes valid (non-NA): 499708\n",
      "Jumlah author unik: 117238\n",
      "Jumlah kategori unik: 367915\n",
      "\n",
      "Memulai pengujian performa...\n",
      "=== Pengujian Performa Pencarian ===\n",
      "\n",
      "Mengetes pencarian untuk:\n",
      "Query: 'love'\n",
      "Tipe pencarian: quote\n",
      "Error saat menguji query 'love' (quote): name 'time' is not defined\n",
      "\n",
      "Mengetes pencarian untuk:\n",
      "Query: 'Max Lucado'\n",
      "Tipe pencarian: author\n",
      "Error saat menguji query 'Max Lucado' (author): name 'time' is not defined\n",
      "\n",
      "Mengetes pencarian untuk:\n",
      "Query: 'motivation'\n",
      "Tipe pencarian: category\n",
      "Error saat menguji query 'motivation' (category): name 'time' is not defined\n"
     ]
    }
   ],
   "source": [
    "# Menjalankan pengujian\n",
    "print(\"Informasi Dataset:\")\n",
    "print(f\"Total quotes: {len(df)}\")\n",
    "print(f\"Jumlah quotes valid (non-NA): {df['quote'].notna().sum()}\")\n",
    "print(f\"Jumlah author unik: {df['author'].nunique()}\")\n",
    "print(f\"Jumlah kategori unik: {df['category'].nunique()}\")\n",
    "print(\"\\nMemulai pengujian performa...\")\n",
    "test_search_performance()"
   ]
  },
  {
   "cell_type": "code",
   "execution_count": 37,
   "id": "b45fa2d7-c864-4060-9cf2-3543a1365da0",
   "metadata": {},
   "outputs": [],
   "source": [
    "from IPython.display import HTML, display\n",
    "\n",
    "def create_search_box():\n",
    "    \"\"\"\n",
    "    Membuat tampilan search box sederhana untuk mencari quotes\n",
    "    \"\"\"\n",
    "    \n",
    "def smart_search(query):\n",
    "    \"\"\"\n",
    "    Fungsi pencarian pintar yang bisa mendeteksi tipe pencarian dari input\n",
    "    \"\"\"\n",
    "    query = query.strip().lower()\n",
    "    \n",
    "    # Cek apakah query adalah penulis atau kategori\n",
    "    if query in authors:\n",
    "        search_type = 'author'\n",
    "        search_query = query\n",
    "    elif query in categories:\n",
    "        search_type = 'category'\n",
    "        search_query = query\n",
    "    else:\n",
    "        search_type = 'content'\n",
    "        search_query = query\n",
    "    \n",
    "    if not search_query:\n",
    "        print(\"Kata kunci pencarian tidak boleh kosong!\")\n",
    "        return\n",
    "    \n",
    "    results = search_quotes(search_query, search_type)\n",
    "    \n",
    "    # Menampilkan hasil\n",
    "    print(f\"\\nHasil pencarian untuk '{search_query}' (Tipe: {search_type}):\")\n",
    "    if results:\n",
    "        for i, result in enumerate(results, 1):\n",
    "            print(f\"\\n{i}. Quote: {result['quote']}\")\n",
    "            print(f\"   Author: {result['author']}\")\n",
    "            print(f\"   Category: {result['category']}\")\n",
    "            if 'similarity' in result:\n",
    "                print(f\"   Similarity: {result['similarity']:.4f}\")\n",
    "    else:\n",
    "        print(\"Tidak ditemukan hasil yang cocok.\")"
   ]
  },
  {
   "cell_type": "code",
   "execution_count": 39,
   "id": "1b83aeeb-b376-40c8-bc4d-bb6636564385",
   "metadata": {},
   "outputs": [],
   "source": [
    "# Fungsi untuk memulai pencarian\n",
    "def start_search():\n",
    "    create_search_box()\n",
    "    while True:\n",
    "        print(\"\\n\" + \"=\"*50)\n",
    "        query = input(\"Masukkan kata kunci pencarian (ketik 'exit' untuk keluar): \")\n",
    "        \n",
    "        if query.lower() == 'exit':\n",
    "            print(\"Terima kasih telah menggunakan search engine quotes!\")\n",
    "            break\n",
    "            \n",
    "        smart_search(query)"
   ]
  },
  {
   "cell_type": "code",
   "execution_count": 41,
   "id": "725d551e-8553-4270-b0f7-fca87ca6de0c",
   "metadata": {},
   "outputs": [
    {
     "name": "stdout",
     "output_type": "stream",
     "text": [
      "\n",
      "==================================================\n"
     ]
    },
    {
     "name": "stdin",
     "output_type": "stream",
     "text": [
      "Masukkan kata kunci pencarian (ketik 'exit' untuk keluar):  Romance\n"
     ]
    },
    {
     "name": "stdout",
     "output_type": "stream",
     "text": [
      "\n",
      "Hasil pencarian untuk 'romance' (Tipe: category):\n",
      "\n",
      "1. Quote: When someone loves you, the way they talk about you is different. You feel safe and comfortable.\n",
      "   Author: Jess C. Scott, The Intern\n",
      "   Category: desire, emotion, friendship, honesty, imagination, individuality, life, love, passion, reality, relationships, romance, truth, wisdom, wise-words\n",
      "\n",
      "2. Quote: I no longer believed in the idea of soul mates, or love at first sight. But I was beginning to believe that a very few times in your life, if you were lucky, you might meet someone who was exactly right for you. Not because he was perfect, or because you were, but because your combined flaws were arranged in a way that allowed two separate beings to hinge together.\n",
      "   Author: Lisa Kleypas, Blue-Eyed Devil\n",
      "   Category: love, relationships, romance\n",
      "\n",
      "3. Quote: The best love is the kind that awakens the soul and makes us reach for more, that plants a fire in our hearts and brings peace to our minds. And that's what you've given me. That's what I'd hoped to give you forever\n",
      "   Author: Nicholas Sparks\n",
      "   Category: love, nicholas-sparks, romance, the-notebook\n",
      "\n",
      "4. Quote: Some women choose to follow men, and some women choose to follow their dreams. If you're wondering which way to go, remember that your career will never wake up and tell you that it doesn't love you anymore.\n",
      "   Author: Lady Gaga\n",
      "   Category: love, romance, work\n",
      "\n",
      "5. Quote: I heard what you said. I’m not the silly romantic you think. I don’t want the heavens or the shooting stars. I don’t want gemstones or gold. I have those things already. I want…a steady hand. A kind soul. I want to fall asleep, and wake, knowing my heart is safe. I want to love, and be loved.\n",
      "   Author: Shana Abe\n",
      "   Category: love, romance\n",
      "\n",
      "==================================================\n"
     ]
    },
    {
     "name": "stdin",
     "output_type": "stream",
     "text": [
      "Masukkan kata kunci pencarian (ketik 'exit' untuk keluar):  Lady gaga\n"
     ]
    },
    {
     "name": "stdout",
     "output_type": "stream",
     "text": [
      "\n",
      "Hasil pencarian untuk 'lady gaga' (Tipe: author):\n",
      "\n",
      "1. Quote: Some women choose to follow men, and some women choose to follow their dreams. If you're wondering which way to go, remember that your career will never wake up and tell you that it doesn't love you anymore.\n",
      "   Author: Lady Gaga\n",
      "   Category: love, romance, work\n",
      "\n",
      "2. Quote: Love is like a brick. You can build a house, or you can sink a dead body.\n",
      "   Author: Lady Gaga\n",
      "   Category: brick, dead, house, humor, lady-gaga, love\n",
      "\n",
      "3. Quote: Well my music was different in high school; I was singing about love—you know, things I don't care about anymore.\n",
      "   Author: Lady Gaga\n",
      "   Category: high-school, lady-gaga, love, music, school\n",
      "\n",
      "4. Quote: It doesn't matter who you are, or where you come from, or how much money you've got in your pocket. You have your own destiny and your own life ahead of you.\n",
      "   Author: Lady Gaga\n",
      "   Category: inspirational, life\n",
      "\n",
      "5. Quote: If you dont have any shadows you're not in the light\n",
      "   Author: Lady Gaga\n",
      "   Category: inspirational, meaningful, shadows\n",
      "\n",
      "==================================================\n"
     ]
    },
    {
     "name": "stdin",
     "output_type": "stream",
     "text": [
      "Masukkan kata kunci pencarian (ketik 'exit' untuk keluar):  never surrender\n"
     ]
    },
    {
     "name": "stdout",
     "output_type": "stream",
     "text": [
      "\n",
      "Hasil pencarian untuk 'never surrender' (Tipe: content):\n",
      "\n",
      "1. Quote: Never Give up, never surrender.\n",
      "   Author: Nancy J. Cohen\n",
      "   Category: mystery, paranormal-romance, romance\n",
      "   Similarity: 0.8741\n",
      "\n",
      "2. Quote: Surrender your expectations. Surrender your doubts. Surrender your fears. Surrender your strengths. Surrender your anger. Surrender your control.\n",
      "   Author: Yasmine Galenorn, Darkling\n",
      "   Category: darkling, paranormal, paranormal-romance, vampire, yasmine-galenorn\n",
      "   Similarity: 0.8503\n",
      "\n",
      "3. Quote: Surrender to God.\n",
      "   Author: Lailah Gifty Akita\n",
      "   Category: christain, god, surrender\n",
      "   Similarity: 0.7914\n",
      "\n",
      "4. Quote: You have to surrender yourself to the experience.\n",
      "   Author: Thomm Quackenbush, Artificial Gods\n",
      "   Category: experience, surrender\n",
      "   Similarity: 0.7419\n",
      "\n",
      "5. Quote: Just surrender to the story.\n",
      "   Author: A.D. Posey\n",
      "   Category: ad-posey, inspirational, story, storytellers, storytelling, surrender, write, writers, writing, writing-quotes\n",
      "   Similarity: 0.7392\n",
      "\n",
      "==================================================\n"
     ]
    },
    {
     "name": "stdin",
     "output_type": "stream",
     "text": [
      "Masukkan kata kunci pencarian (ketik 'exit' untuk keluar):  exit\n"
     ]
    },
    {
     "name": "stdout",
     "output_type": "stream",
     "text": [
      "Terima kasih telah menggunakan search engine quotes!\n"
     ]
    }
   ],
   "source": [
    "# Jalankan pencarian\n",
    "start_search()"
   ]
  },
  {
   "cell_type": "markdown",
   "id": "78dbb22c-0511-4520-a45b-c6a55a56535e",
   "metadata": {},
   "source": [
    "**DISKUSI HASIL**  \n",
    "&nbsp;&nbsp;&nbsp;&nbsp;&nbsp;&nbsp;&nbsp;&nbsp;Mesin pencari yang diimplementasikan berhasil menangani berbagai jenis pencarian dengan baik, mencakup pencarian berbasis konten, penulis, dan kategori. Penggunaan algoritma TF-IDF dan cosine similarity terbukti efektif dalam menentukan relevansi untuk pencarian berbasis konten, memberikan hasil yang sesuai dengan query pengguna. Untuk pencarian berdasarkan penulis dan kategori, pendekatan pencocokan string langsung digunakan, yang memberikan presisi lebih tinggi karena langsung membandingkan query dengan data yang ada tanpa transformasi lebih lanjut. Tahap preprocessing data, yang melibatkan konversi ke huruf kecil, penghapusan karakter khusus, stopword, serta proses lemmatisasi, berkontribusi signifikan dalam meningkatkan kualitas hasil pencarian dengan memastikan data lebih bersih dan seragam. Sistem ini dirancang untuk menangani berbagai jenis query secara efisien, termasuk mengelola nilai kosong (NaN) pada dataset, sehingga menghasilkan pengalaman pencarian yang lebih andal.  \n",
    "&nbsp;&nbsp;&nbsp;&nbsp;&nbsp;&nbsp;&nbsp;&nbsp;Selain itu, implementasi evaluasi menunjukkan bahwa mesin pencari memiliki performa yang baik dalam mengolah query dengan waktu eksekusi yang cepat. Hasil yang relevan disertai dengan atribut tambahan, seperti kemiripan untuk pencarian berbasis konten, memberikan informasi yang lebih lengkap kepada pengguna. Secara keseluruhan, sistem ini telah memenuhi tujuan awal, yaitu menjadi mesin pencari yang fleksibel, presisi, dan efisien untuk dataset kutipan."
   ]
  },
  {
   "cell_type": "markdown",
   "id": "761e791a-7d3e-4ade-8b88-42ad8c99d90c",
   "metadata": {},
   "source": [
    "**KESIMPULAN**  \n",
    "&nbsp;&nbsp;&nbsp;&nbsp;&nbsp;&nbsp;&nbsp;&nbsp;Dari hasil implementasi dan pengujian, mesin pencari ini terbukti efektif dalam menangani berbagai kriteria pencarian, baik berbasis konten, penulis, maupun kategori. Algoritma TF-IDF yang digabungkan dengan cosine similarity memberikan hasil pencarian yang relevan untuk konten, sedangkan pencocokan string langsung memberikan akurasi tinggi untuk pencarian berdasarkan penulis dan kategori. Tahap preprocessing data memainkan peran penting dalam meningkatkan kualitas data, sehingga mendukung proses pencarian yang lebih baik. Sistem ini dirancang agar dapat diskalakan dan mampu menangani ukuran dataset saat ini secara efektif. Dengan fitur yang ada, mesin pencari ini menjadi solusi yang andal untuk pencarian berbasis kutipan, memberikan hasil yang relevan, cepat, dan sesuai dengan kebutuhan pengguna."
   ]
  },
  {
   "cell_type": "code",
   "execution_count": null,
   "id": "b083d529-a55e-4cc0-b22a-4f6180a5c707",
   "metadata": {},
   "outputs": [],
   "source": []
  }
 ],
 "metadata": {
  "kernelspec": {
   "display_name": "Python 3 (ipykernel)",
   "language": "python",
   "name": "python3"
  },
  "language_info": {
   "codemirror_mode": {
    "name": "ipython",
    "version": 3
   },
   "file_extension": ".py",
   "mimetype": "text/x-python",
   "name": "python",
   "nbconvert_exporter": "python",
   "pygments_lexer": "ipython3",
   "version": "3.11.7"
  }
 },
 "nbformat": 4,
 "nbformat_minor": 5
}
