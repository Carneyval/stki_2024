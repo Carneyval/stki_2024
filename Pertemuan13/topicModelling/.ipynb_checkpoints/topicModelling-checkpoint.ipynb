{
 "cells": [
  {
   "cell_type": "markdown",
   "id": "8bbb746d",
   "metadata": {},
   "source": [
    "## Topic Modelling Menggunakan Latent Dirchlect Allocation"
   ]
  },
  {
   "cell_type": "markdown",
   "id": "67f16bae",
   "metadata": {},
   "source": [
    "##### Apa itu topic modelling? \n",
    "Secara sederhana adalah mengelompokan data text berdasarkan suatu topik tertentu. \n",
    "\n",
    "<b>Bagaimana dengan klasifikasi? </b>\n",
    "\n",
    "Memiliki tujuan yang sama dengan klasifikasi tetapi menggunakan pendekatan berbeda. Topik modelling merupakan <b>unsupervised learning alias tidak membutuhkan data berlabel. bisa dikatakan topic modelling bekerja seperti clustering dengan mengelompokan dokumen berdasarkan kemiripanya, tetapi topic modelling mempunyai tujuan yang lebih spesifik yaitu :"
   ]
  },
  {
   "cell_type": "code",
   "execution_count": null,
   "id": "cf1d9f23",
   "metadata": {},
   "outputs": [],
   "source": []
  }
 ],
 "metadata": {
  "kernelspec": {
   "display_name": "Python 3 (ipykernel)",
   "language": "python",
   "name": "python3"
  },
  "language_info": {
   "codemirror_mode": {
    "name": "ipython",
    "version": 3
   },
   "file_extension": ".py",
   "mimetype": "text/x-python",
   "name": "python",
   "nbconvert_exporter": "python",
   "pygments_lexer": "ipython3",
   "version": "3.9.5"
  }
 },
 "nbformat": 4,
 "nbformat_minor": 5
}
